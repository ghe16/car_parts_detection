{
 "cells": [
  {
   "cell_type": "code",
   "execution_count": 1,
   "metadata": {},
   "outputs": [],
   "source": [
    "import matplotlib.pyplot as plt\n",
    "import os\n",
    "import random\n",
    "import torch\n",
    "from torch import nn, optim\n",
    "from torch.nn import functional as F\n",
    "from torchvision import transforms as T\n",
    "from torch.utils.data import DataLoader, random_split\n",
    "#\n",
    "import PIL\n",
    "from PIL import Image\n",
    "#\n",
    "from cargar_dataset import carga_carDataset\n",
    "from models.UnetModelMultiClass import *\n",
    "from utilidades.utilidades import accuracy\n",
    "from utilidades.classweights import calculate_class_weights\n",
    "#"
   ]
  },
  {
   "cell_type": "code",
   "execution_count": 2,
   "metadata": {},
   "outputs": [
    {
     "name": "stdout",
     "output_type": "stream",
     "text": [
      "cpu\n"
     ]
    }
   ],
   "source": [
    "device = torch.device('cuda' if torch.cuda.is_available() else 'cpu')\n",
    "print(device)"
   ]
  },
  {
   "cell_type": "code",
   "execution_count": 3,
   "metadata": {},
   "outputs": [],
   "source": [
    "PATH = \"data/\"\n",
    "TRAIN_PATH = \"data/train/JPEGImages/\"\n",
    "TRAIN_MASKS_PATH=\"data/train/JPEGMasks/\"\n",
    "TEST_PATH = \".data/test/\"\n",
    "#\n",
    "BATCH_SIZE = 32"
   ]
  },
  {
   "cell_type": "code",
   "execution_count": 4,
   "metadata": {},
   "outputs": [],
   "source": [
    "full_dataset = carga_carDataset.Car_Dataset(\n",
    "    TRAIN_PATH,\n",
    "    TRAIN_MASKS_PATH,\n",
    "    data_augmented=False)"
   ]
  },
  {
   "cell_type": "code",
   "execution_count": 5,
   "metadata": {},
   "outputs": [],
   "source": [
    "TRAIN_SIZE = int(len(full_dataset)*0.8)\n",
    "VAL_SIZE = len(full_dataset) - TRAIN_SIZE\n",
    "\n",
    "train_dataset, val_dataset = random_split(full_dataset, [TRAIN_SIZE,VAL_SIZE])\n",
    "\n",
    "train_loader = DataLoader(train_dataset,batch_size=BATCH_SIZE,shuffle=True)\n",
    "val_loader   = DataLoader(val_dataset,batch_size=BATCH_SIZE,shuffle=True)"
   ]
  },
  {
   "cell_type": "code",
   "execution_count": 6,
   "metadata": {},
   "outputs": [
    {
     "name": "stdout",
     "output_type": "stream",
     "text": [
      "10\n"
     ]
    }
   ],
   "source": [
    "print(len(train_loader))\n",
    "imgs, masks = next(iter(train_loader))"
   ]
  },
  {
   "cell_type": "code",
   "execution_count": 7,
   "metadata": {},
   "outputs": [
    {
     "name": "stdout",
     "output_type": "stream",
     "text": [
      "tensor(18)\n",
      "tensor(0)\n",
      "tensor([ 0,  8,  0,  8,  0,  8,  0,  8,  0,  8,  0,  9,  0,  9,  3,  0,  8,  0,\n",
      "         9,  3,  0,  8,  0,  9,  3,  0,  8,  0,  9,  3,  0,  8,  0,  9,  3,  0,\n",
      "         8,  0,  9,  3,  0,  8,  0,  9,  3,  0,  8,  0,  9,  3,  0,  8,  0,  9,\n",
      "         3,  0,  8,  0,  9,  3,  0,  8,  0,  9,  3,  0,  8,  0,  9,  3,  0,  8,\n",
      "         0,  9,  3,  0,  8,  0,  9,  3,  0,  8,  0,  9,  3,  0,  8,  0,  9,  3,\n",
      "         0,  8,  0,  9,  3,  0,  8,  0,  9,  3,  0,  8,  0,  9,  3,  0,  8,  0,\n",
      "         9,  3,  0,  8,  0,  9,  3,  0,  8,  0,  9,  3,  0,  8,  0,  9,  3,  0,\n",
      "         8,  0,  9,  3,  0,  8,  0,  9,  3,  0,  8,  0,  9,  3,  0,  8,  0,  9,\n",
      "         3,  0,  8,  0,  9,  3,  0,  8,  0, 13,  0,  9,  3,  0, 13,  0,  9,  3,\n",
      "         0, 13,  0,  9,  3,  0, 13,  0,  9,  3,  0, 13,  0,  9,  3,  0, 13,  0,\n",
      "         9,  3,  0, 13,  0,  9,  3,  0, 13,  0,  9,  3,  0,  4,  0, 13,  0,  9,\n",
      "         3,  0,  4,  0, 13,  0,  7,  0,  9,  3,  0,  4,  0, 13,  7,  0,  9,  3,\n",
      "         0,  4,  0, 13,  7, 10,  0,  9,  3,  0,  4,  0, 13,  7, 10,  0,  9,  3,\n",
      "         0,  4,  0, 13,  0,  7, 10,  0,  9,  3,  0,  4,  0, 13,  7,  0, 10,  0,\n",
      "         9,  3,  0,  4,  0, 13,  7, 10,  0,  9,  3,  0,  4,  0,  7,  0, 10,  0,\n",
      "         9,  3,  0,  4,  0,  7,  0, 10,  0,  9,  3,  0,  4,  0,  7, 10,  0,  9,\n",
      "         3,  0,  7, 10,  0,  9,  3,  0,  7, 10,  0,  9,  3,  0,  7, 10,  0,  9,\n",
      "         3,  0,  7, 10,  0,  9,  3,  0,  7, 10,  0,  7,  0,  9,  3,  0,  7, 10,\n",
      "         0,  7,  0,  9,  3,  0,  7,  0, 10,  7,  0,  9,  3,  0,  7,  0,  9,  3,\n",
      "         0,  7,  0,  9,  3,  0,  7,  0,  9,  3,  0,  7,  0,  9,  3,  0,  7,  0,\n",
      "         9,  3,  0,  7,  0,  9,  3,  0,  7,  0,  9,  3,  0,  7,  0,  9,  3,  0,\n",
      "         7,  0,  9,  3,  0,  7,  0,  9,  3,  0,  7,  0,  9,  3,  0,  7,  0,  9,\n",
      "         3,  0,  7,  0,  9,  3,  0,  7,  0,  9,  3,  0, 18,  0,  7,  0,  9,  3,\n",
      "         0, 18,  0,  7,  0, 18,  0,  9,  3,  0, 18,  0,  7, 18,  0,  9,  3,  0,\n",
      "        18,  0,  7, 18,  0,  9,  3,  0, 18,  0,  7,  0, 18,  0,  9,  3,  0, 18,\n",
      "         0,  7, 18,  0,  9,  3,  0, 18,  0,  7, 18,  0,  9,  3,  0, 18,  0,  7,\n",
      "         0, 18,  0,  9,  3,  0, 18,  0,  7, 18,  0,  9,  3,  0, 18,  0,  7, 18,\n",
      "         0,  9,  3,  0, 18,  0,  7,  0, 18,  0,  9,  3,  0, 18,  0,  7, 18,  0,\n",
      "         9,  3,  0, 18,  0,  7, 18,  0,  9,  3,  0, 18,  0,  7, 18,  0,  9,  3,\n",
      "         0, 18,  0,  7,  0, 18,  0,  9,  3,  0, 18,  0,  7,  0, 18,  0,  9,  3,\n",
      "         0, 18,  0,  7, 18,  0,  9,  0,  3,  0, 18,  0,  7,  0, 18,  0,  9,  0,\n",
      "         3,  0, 18,  0,  7,  0, 18,  0,  9,  0, 18,  0,  7,  0, 18,  0,  9,  0,\n",
      "        18,  0,  7,  0, 18,  0,  9,  0, 18,  0,  7,  0, 18,  0,  9,  0, 18,  0,\n",
      "         7,  0, 18,  0, 18,  0,  7,  0, 18,  0, 18,  0,  7,  0, 18,  0, 18,  0,\n",
      "         7,  0, 18,  0, 18,  0,  7,  0, 18,  0, 18,  0,  7,  0, 18,  0, 18,  0,\n",
      "         7,  0, 18,  0, 18,  0,  7,  0, 18,  0, 18,  0,  7,  0, 18,  0, 18,  0,\n",
      "        18,  0, 18,  0, 18,  0, 18,  0, 18,  0, 18,  0, 18,  0, 18,  0, 18,  0,\n",
      "        18,  0, 18,  0, 18,  0, 18,  0, 18,  0, 18,  0, 18,  0, 18,  0, 18,  0,\n",
      "        18,  0, 18,  0, 18,  0, 18,  0, 18,  0, 18,  0, 18,  0, 18,  0, 18,  0,\n",
      "        18,  0, 18,  0, 18,  0, 18,  0, 18,  0, 18,  0, 18,  0, 18,  0, 18,  0,\n",
      "        18,  0, 18,  0, 18,  0, 18,  0, 18,  0, 18,  0, 18,  0, 18,  0, 18,  0,\n",
      "        18,  0, 18,  0, 18,  0, 18,  0, 18,  0, 18,  0, 18,  0, 18,  0, 18,  0,\n",
      "        18,  0, 18,  0, 18,  0, 18,  0, 18,  0, 18,  0])\n",
      "768\n"
     ]
    },
    {
     "data": {
      "image/png": "[encoded data removed]",
      "text/plain": [
       "<Figure size 100x200 with 2 Axes>"
      ]
     },
     "metadata": {},
     "output_type": "display_data"
    }
   ],
   "source": [
    "for imgs,maskss in train_loader:\n",
    "    plt.figure(figsize=(1,2))\n",
    "    for i in range(BATCH_SIZE):\n",
    "        unicos = torch.unique(maskss[i,...])\n",
    "        print(unicos.max())\n",
    "        print(unicos.min())\n",
    "        plt.subplot(1,2, 1)\n",
    "        plt.imshow(maskss[i,...],cmap='tab10')\n",
    "        plt.subplot(1,2,2)\n",
    "        plt.imshow(imgs[i,...].permute(1,2,0).numpy())\n",
    "        print(unicos)\n",
    "        print(len(unicos))\n",
    "        break\n",
    "    break\n"
   ]
  },
  {
   "cell_type": "code",
   "execution_count": 20,
   "metadata": {},
   "outputs": [
    {
     "data": {
      "text/plain": [
       "tensor([  0, 217,   0,  ...,   0,   1,   0])"
      ]
     },
     "execution_count": 20,
     "metadata": {},
     "output_type": "execute_result"
    }
   ],
   "source": [
    "torch.unique(masks)"
   ]
  },
  {
   "cell_type": "code",
   "execution_count": 13,
   "metadata": {},
   "outputs": [
    {
     "name": "stdout",
     "output_type": "stream",
     "text": [
      "torch.Size([112008])\n",
      "tensor([ 0, 13,  0,  ...,  0,  4,  0])\n"
     ]
    }
   ],
   "source": [
    "unique1 = torch.unique(torch.unique(masks))\n",
    "print(unique1.shape)\n",
    "print(unique1)"
   ]
  },
  {
   "cell_type": "code",
   "execution_count": null,
   "metadata": {},
   "outputs": [],
   "source": []
  }
 ],
 "metadata": {
  "kernelspec": {
   "display_name": ".venv",
   "language": "python",
   "name": "python3"
  },
  "language_info": {
   "codemirror_mode": {
    "name": "ipython",
    "version": 3
   },
   "file_extension": ".py",
   "mimetype": "text/x-python",
   "name": "python",
   "nbconvert_exporter": "python",
   "pygments_lexer": "ipython3",
   "version": "3.10.9"
  }
 },
 "nbformat": 4,
 "nbformat_minor": 2
}
